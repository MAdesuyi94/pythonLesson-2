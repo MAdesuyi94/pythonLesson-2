{
 "cells": [
  {
   "cell_type": "markdown",
   "id": "d7c8ed33",
   "metadata": {},
   "source": [
    "# pythonLesson-2"
   ]
  },
  {
   "cell_type": "markdown",
   "id": "615f2313",
   "metadata": {},
   "source": [
    "## How do computers store data?\n",
    "\n",
    "- ### Data Stored in computers is converted to 0s and 1s\n",
    "- ### Byte - A Tiny storage Location\n",
    "- ### Bit - One eighth of a byte. One of the eight sections of a byte.\n",
    "    - Short for Binary Digit\n",
    "    - Think of a byte as 8 tiny switches (bits)\n",
    "    - ![Byte_Image](images/byte_image.png)"
   ]
  },
  {
   "cell_type": "markdown",
   "id": "e7a2affb",
   "metadata": {},
   "source": [
    "## How do you read Binary digits?\n",
    "- ### Each bit represents a power of 2\n",
    "- ### Starting from the right, the first bit represents 2^0, the second bit represents 2^1, the third bit represents 2^2, and so on.\n",
    "- ### To find the decimal value of a binary number, you add up the values of the bits that are set to 1.\n",
    "![Binary_Chart](images/binary_chart.png)\n",
    "    \n",
    "    "
   ]
  },
  {
   "cell_type": "markdown",
   "id": "2a64b718",
   "metadata": {},
   "source": [
    "![Binary_Chart_2](images/binary_chart_2.png)"
   ]
  },
  {
   "cell_type": "code",
   "execution_count": null,
   "id": "c342e210",
   "metadata": {},
   "outputs": [],
   "source": [
    "# TODO: Convert the binary number 101101 to decimal."
   ]
  },
  {
   "cell_type": "code",
   "execution_count": null,
   "id": "f0e7724f",
   "metadata": {},
   "outputs": [],
   "source": [
    "# TODO: Convert the decimal number 45 to binary"
   ]
  },
  {
   "cell_type": "markdown",
   "id": "8f56684c",
   "metadata": {},
   "source": [
    "## How is text stored?\n",
    "- ### Text is stored using character encoding schemes like ASCII or Unicode.\n",
    "- ### Each character is assigned a unique binary code.\n",
    "\n",
    "![ASCII_Chart](images/ascii_chart.png)"
   ]
  },
  {
   "cell_type": "code",
   "execution_count": null,
   "id": "76daf67d",
   "metadata": {},
   "outputs": [],
   "source": [
    "# TODO: Write your name in ASCII"
   ]
  },
  {
   "cell_type": "markdown",
   "id": "38db5506",
   "metadata": {},
   "source": [
    "## 2 Ways to Run Python\n",
    "1. ### Interactive Mode\n",
    "    - Run Python commands one at a time\n",
    "    - Good for testing small snippets of code\n",
    "    - Open Command Prompt or Terminal and type `python` or `python3`\n",
    "2. ### Script Mode\n",
    "    - Write Python code in a file and run the entire file at once\n",
    "    - Good for larger programs\n",
    "    - Save your code in a file with a `.py` extension (e.g., `script.py`)\n",
    "    - Run the script from Command Prompt or Terminal using `python script.py` or `python3 script.py`"
   ]
  },
  {
   "cell_type": "code",
   "execution_count": null,
   "id": "bca46c72",
   "metadata": {},
   "outputs": [],
   "source": [
    "# TODO: Start the Python Interpreter in the terminal. Type print(‘Hello World!’), and press enter"
   ]
  },
  {
   "cell_type": "code",
   "execution_count": null,
   "id": "fb8d2fa8",
   "metadata": {},
   "outputs": [],
   "source": [
    "# TODO: Run the example_python_file.py"
   ]
  },
  {
   "cell_type": "markdown",
   "id": "e770c711",
   "metadata": {},
   "source": [
    "## Program Development Cycle\n",
    "1. ### Plan\n",
    "    - Define the problem and outline the steps to solve it.\n",
    "2. ### Code\n",
    "    - Write the actual Python code based on your plan.\n",
    "3. ### Correcty Syntax Errors\n",
    "    - Fix any syntax errors that prevent the code from running.\n",
    "4. ### Test\n",
    "    - Run the program with different inputs to ensure it works as expected.\n",
    "5. ### Correct Logic Errors\n",
    "    - Fix any logic errors that cause the program to produce incorrect results.\n"
   ]
  },
  {
   "cell_type": "markdown",
   "id": "5151b1d0",
   "metadata": {},
   "source": [
    "## Pseudocode\n",
    "- ### Pseudocode is a way to plan your code using plain English.\n",
    "- ### It helps you outline the logic of your program before writing actual code.\n",
    "```plaintext\n",
    "START\n",
    "  PRINT \"Hello, World!\"\n",
    "END\n",
    "```"
   ]
  }
 ],
 "metadata": {
  "kernelspec": {
   "display_name": "pythonlesson-2",
   "language": "python",
   "name": "python3"
  },
  "language_info": {
   "codemirror_mode": {
    "name": "ipython",
    "version": 3
   },
   "file_extension": ".py",
   "mimetype": "text/x-python",
   "name": "python",
   "nbconvert_exporter": "python",
   "pygments_lexer": "ipython3",
   "version": "3.13.5"
  }
 },
 "nbformat": 4,
 "nbformat_minor": 5
}
