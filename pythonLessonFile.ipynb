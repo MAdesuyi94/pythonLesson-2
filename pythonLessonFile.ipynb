{
 "cells": [
  {
   "cell_type": "markdown",
   "id": "d7c8ed33",
   "metadata": {},
   "source": [
    "# This is an Empty Notebook file for lessons"
   ]
  },
  {
   "cell_type": "code",
   "execution_count": 5,
   "id": "c342e210",
   "metadata": {},
   "outputs": [
    {
     "data": {
      "application/vnd.microsoft.datawrangler.viewer.v0+json": {
       "columns": [
        {
         "name": "index",
         "rawType": "int64",
         "type": "integer"
        },
        {
         "name": "Age",
         "rawType": "float64",
         "type": "float"
        },
        {
         "name": "Gender",
         "rawType": "object",
         "type": "unknown"
        },
        {
         "name": "Education Level",
         "rawType": "object",
         "type": "unknown"
        },
        {
         "name": "Job Title",
         "rawType": "object",
         "type": "unknown"
        },
        {
         "name": "Years of Experience",
         "rawType": "float64",
         "type": "float"
        },
        {
         "name": "Salary",
         "rawType": "float64",
         "type": "float"
        }
       ],
       "ref": "2aeabd77-c059-45f5-ae48-24b7c866a823",
       "rows": [
        [
         "0",
         "32.0",
         "Male",
         "Bachelor's",
         "Software Engineer",
         "5.0",
         "90000.0"
        ],
        [
         "1",
         "28.0",
         "Female",
         "Master's",
         "Data Analyst",
         "3.0",
         "65000.0"
        ],
        [
         "2",
         "45.0",
         "Male",
         "PhD",
         "Senior Manager",
         "15.0",
         "150000.0"
        ],
        [
         "3",
         "36.0",
         "Female",
         "Bachelor's",
         "Sales Associate",
         "7.0",
         "60000.0"
        ],
        [
         "4",
         "52.0",
         "Male",
         "Master's",
         "Director",
         "20.0",
         "200000.0"
        ],
        [
         "5",
         "29.0",
         "Male",
         "Bachelor's",
         "Marketing Analyst",
         "2.0",
         "55000.0"
        ],
        [
         "6",
         "42.0",
         "Female",
         "Master's",
         "Product Manager",
         "12.0",
         "120000.0"
        ],
        [
         "7",
         "31.0",
         "Male",
         "Bachelor's",
         "Sales Manager",
         "4.0",
         "80000.0"
        ],
        [
         "8",
         "26.0",
         "Female",
         "Bachelor's",
         "Marketing Coordinator",
         "1.0",
         "45000.0"
        ],
        [
         "9",
         "38.0",
         "Male",
         "PhD",
         "Senior Scientist",
         "10.0",
         "110000.0"
        ],
        [
         "10",
         "29.0",
         "Male",
         "Master's",
         "Software Developer",
         "3.0",
         "75000.0"
        ],
        [
         "11",
         "48.0",
         "Female",
         "Bachelor's",
         "HR Manager",
         "18.0",
         "140000.0"
        ],
        [
         "12",
         "35.0",
         "Male",
         "Bachelor's",
         "Financial Analyst",
         "6.0",
         "65000.0"
        ],
        [
         "13",
         "40.0",
         "Female",
         "Master's",
         "Project Manager",
         "14.0",
         "130000.0"
        ],
        [
         "14",
         "27.0",
         "Male",
         "Bachelor's",
         "Customer Service Rep",
         "2.0",
         "40000.0"
        ],
        [
         "15",
         "44.0",
         "Male",
         "Bachelor's",
         "Operations Manager",
         "16.0",
         "125000.0"
        ],
        [
         "16",
         "33.0",
         "Female",
         "Master's",
         "Marketing Manager",
         "7.0",
         "90000.0"
        ],
        [
         "17",
         "39.0",
         "Male",
         "PhD",
         "Senior Engineer",
         "12.0",
         "115000.0"
        ],
        [
         "18",
         "25.0",
         "Female",
         "Bachelor's",
         "Data Entry Clerk",
         "0.0",
         "35000.0"
        ],
        [
         "19",
         "51.0",
         "Male",
         "Bachelor's",
         "Sales Director",
         "22.0",
         "180000.0"
        ],
        [
         "20",
         "34.0",
         "Female",
         "Master's",
         "Business Analyst",
         "5.0",
         "80000.0"
        ],
        [
         "21",
         "47.0",
         "Male",
         "Master's",
         "VP of Operations",
         "19.0",
         "190000.0"
        ],
        [
         "22",
         "30.0",
         "Male",
         "Bachelor's",
         "IT Support",
         "2.0",
         "50000.0"
        ],
        [
         "23",
         "36.0",
         "Female",
         "Bachelor's",
         "Recruiter",
         "9.0",
         "60000.0"
        ],
        [
         "24",
         "41.0",
         "Male",
         "Master's",
         "Financial Manager",
         "13.0",
         "140000.0"
        ],
        [
         "25",
         "28.0",
         "Female",
         "Bachelor's",
         "Social Media Specialist",
         "3.0",
         "45000.0"
        ],
        [
         "26",
         "37.0",
         "Female",
         "Master's",
         "Software Manager",
         "11.0",
         "110000.0"
        ],
        [
         "27",
         "24.0",
         "Male",
         "Bachelor's",
         "Junior Developer",
         "1.0",
         "40000.0"
        ],
        [
         "28",
         "43.0",
         "Female",
         "PhD",
         "Senior Consultant",
         "15.0",
         "140000.0"
        ],
        [
         "29",
         "33.0",
         "Male",
         "Master's",
         "Product Designer",
         "6.0",
         "90000.0"
        ],
        [
         "30",
         "50.0",
         "Male",
         "Bachelor's",
         "CEO",
         "25.0",
         "250000.0"
        ],
        [
         "31",
         "31.0",
         "Female",
         "Bachelor's",
         "Accountant",
         "4.0",
         "55000.0"
        ],
        [
         "32",
         "29.0",
         "Male",
         "Master's",
         "Data Scientist",
         "3.0",
         "75000.0"
        ],
        [
         "33",
         "39.0",
         "Female",
         "Bachelor's",
         "Marketing Specialist",
         "10.0",
         "65000.0"
        ],
        [
         "34",
         "46.0",
         "Male",
         "PhD",
         "Senior Manager",
         "20.0",
         "170000.0"
        ],
        [
         "35",
         "27.0",
         "Male",
         "Bachelor's",
         "Technical Writer",
         "2.0",
         "45000.0"
        ],
        [
         "36",
         "35.0",
         "Female",
         "Bachelor's",
         "HR Generalist",
         "7.0",
         "60000.0"
        ],
        [
         "37",
         "42.0",
         "Male",
         "Master's",
         "Project Engineer",
         "14.0",
         "115000.0"
        ],
        [
         "38",
         "26.0",
         "Female",
         "Bachelor's",
         "Customer Success Rep",
         "1.0",
         "40000.0"
        ],
        [
         "39",
         "49.0",
         "Male",
         "Bachelor's",
         "Sales Executive",
         "21.0",
         "160000.0"
        ],
        [
         "40",
         "34.0",
         "Female",
         "Master's",
         "UX Designer",
         "5.0",
         "80000.0"
        ],
        [
         "41",
         "48.0",
         "Male",
         "Master's",
         "Operations Director",
         "18.0",
         "190000.0"
        ],
        [
         "42",
         "30.0",
         "Male",
         "Bachelor's",
         "Network Engineer",
         "3.0",
         "60000.0"
        ],
        [
         "43",
         "36.0",
         "Female",
         "Bachelor's",
         "Administrative Assistant",
         "8.0",
         "45000.0"
        ],
        [
         "44",
         "41.0",
         "Male",
         "Master's",
         "Strategy Consultant",
         "13.0",
         "130000.0"
        ],
        [
         "45",
         "28.0",
         "Female",
         "Bachelor's",
         "Copywriter",
         "2.0",
         "40000.0"
        ],
        [
         "46",
         "32.0",
         "Male",
         "Bachelor's",
         "Account Manager",
         "5.0",
         "75000.0"
        ],
        [
         "47",
         "45.0",
         "Female",
         "Master's",
         "Director of Marketing",
         "16.0",
         "180000.0"
        ],
        [
         "48",
         "38.0",
         "Male",
         "PhD",
         "Senior Scientist",
         "11.0",
         "120000.0"
        ],
        [
         "49",
         "25.0",
         "Male",
         "Bachelor's",
         "Help Desk Analyst",
         "0.0",
         "35000.0"
        ]
       ],
       "shape": {
        "columns": 6,
        "rows": 375
       }
      },
      "text/html": [
       "<div>\n",
       "<style scoped>\n",
       "    .dataframe tbody tr th:only-of-type {\n",
       "        vertical-align: middle;\n",
       "    }\n",
       "\n",
       "    .dataframe tbody tr th {\n",
       "        vertical-align: top;\n",
       "    }\n",
       "\n",
       "    .dataframe thead th {\n",
       "        text-align: right;\n",
       "    }\n",
       "</style>\n",
       "<table border=\"1\" class=\"dataframe\">\n",
       "  <thead>\n",
       "    <tr style=\"text-align: right;\">\n",
       "      <th></th>\n",
       "      <th>Age</th>\n",
       "      <th>Gender</th>\n",
       "      <th>Education Level</th>\n",
       "      <th>Job Title</th>\n",
       "      <th>Years of Experience</th>\n",
       "      <th>Salary</th>\n",
       "    </tr>\n",
       "  </thead>\n",
       "  <tbody>\n",
       "    <tr>\n",
       "      <th>0</th>\n",
       "      <td>32.0</td>\n",
       "      <td>Male</td>\n",
       "      <td>Bachelor's</td>\n",
       "      <td>Software Engineer</td>\n",
       "      <td>5.0</td>\n",
       "      <td>90000.0</td>\n",
       "    </tr>\n",
       "    <tr>\n",
       "      <th>1</th>\n",
       "      <td>28.0</td>\n",
       "      <td>Female</td>\n",
       "      <td>Master's</td>\n",
       "      <td>Data Analyst</td>\n",
       "      <td>3.0</td>\n",
       "      <td>65000.0</td>\n",
       "    </tr>\n",
       "    <tr>\n",
       "      <th>2</th>\n",
       "      <td>45.0</td>\n",
       "      <td>Male</td>\n",
       "      <td>PhD</td>\n",
       "      <td>Senior Manager</td>\n",
       "      <td>15.0</td>\n",
       "      <td>150000.0</td>\n",
       "    </tr>\n",
       "    <tr>\n",
       "      <th>3</th>\n",
       "      <td>36.0</td>\n",
       "      <td>Female</td>\n",
       "      <td>Bachelor's</td>\n",
       "      <td>Sales Associate</td>\n",
       "      <td>7.0</td>\n",
       "      <td>60000.0</td>\n",
       "    </tr>\n",
       "    <tr>\n",
       "      <th>4</th>\n",
       "      <td>52.0</td>\n",
       "      <td>Male</td>\n",
       "      <td>Master's</td>\n",
       "      <td>Director</td>\n",
       "      <td>20.0</td>\n",
       "      <td>200000.0</td>\n",
       "    </tr>\n",
       "    <tr>\n",
       "      <th>...</th>\n",
       "      <td>...</td>\n",
       "      <td>...</td>\n",
       "      <td>...</td>\n",
       "      <td>...</td>\n",
       "      <td>...</td>\n",
       "      <td>...</td>\n",
       "    </tr>\n",
       "    <tr>\n",
       "      <th>370</th>\n",
       "      <td>35.0</td>\n",
       "      <td>Female</td>\n",
       "      <td>Bachelor's</td>\n",
       "      <td>Senior Marketing Analyst</td>\n",
       "      <td>8.0</td>\n",
       "      <td>85000.0</td>\n",
       "    </tr>\n",
       "    <tr>\n",
       "      <th>371</th>\n",
       "      <td>43.0</td>\n",
       "      <td>Male</td>\n",
       "      <td>Master's</td>\n",
       "      <td>Director of Operations</td>\n",
       "      <td>19.0</td>\n",
       "      <td>170000.0</td>\n",
       "    </tr>\n",
       "    <tr>\n",
       "      <th>372</th>\n",
       "      <td>29.0</td>\n",
       "      <td>Female</td>\n",
       "      <td>Bachelor's</td>\n",
       "      <td>Junior Project Manager</td>\n",
       "      <td>2.0</td>\n",
       "      <td>40000.0</td>\n",
       "    </tr>\n",
       "    <tr>\n",
       "      <th>373</th>\n",
       "      <td>34.0</td>\n",
       "      <td>Male</td>\n",
       "      <td>Bachelor's</td>\n",
       "      <td>Senior Operations Coordinator</td>\n",
       "      <td>7.0</td>\n",
       "      <td>90000.0</td>\n",
       "    </tr>\n",
       "    <tr>\n",
       "      <th>374</th>\n",
       "      <td>44.0</td>\n",
       "      <td>Female</td>\n",
       "      <td>PhD</td>\n",
       "      <td>Senior Business Analyst</td>\n",
       "      <td>15.0</td>\n",
       "      <td>150000.0</td>\n",
       "    </tr>\n",
       "  </tbody>\n",
       "</table>\n",
       "<p>375 rows × 6 columns</p>\n",
       "</div>"
      ],
      "text/plain": [
       "      Age  Gender Education Level                      Job Title  \\\n",
       "0    32.0    Male      Bachelor's              Software Engineer   \n",
       "1    28.0  Female        Master's                   Data Analyst   \n",
       "2    45.0    Male             PhD                 Senior Manager   \n",
       "3    36.0  Female      Bachelor's                Sales Associate   \n",
       "4    52.0    Male        Master's                       Director   \n",
       "..    ...     ...             ...                            ...   \n",
       "370  35.0  Female      Bachelor's       Senior Marketing Analyst   \n",
       "371  43.0    Male        Master's         Director of Operations   \n",
       "372  29.0  Female      Bachelor's         Junior Project Manager   \n",
       "373  34.0    Male      Bachelor's  Senior Operations Coordinator   \n",
       "374  44.0  Female             PhD        Senior Business Analyst   \n",
       "\n",
       "     Years of Experience    Salary  \n",
       "0                    5.0   90000.0  \n",
       "1                    3.0   65000.0  \n",
       "2                   15.0  150000.0  \n",
       "3                    7.0   60000.0  \n",
       "4                   20.0  200000.0  \n",
       "..                   ...       ...  \n",
       "370                  8.0   85000.0  \n",
       "371                 19.0  170000.0  \n",
       "372                  2.0   40000.0  \n",
       "373                  7.0   90000.0  \n",
       "374                 15.0  150000.0  \n",
       "\n",
       "[375 rows x 6 columns]"
      ]
     },
     "execution_count": 5,
     "metadata": {},
     "output_type": "execute_result"
    }
   ],
   "source": [
    "import pandas as pd\n",
    "\n",
    "df = pd.read_csv('files/Salary Data.csv')\n",
    "df"
   ]
  }
 ],
 "metadata": {
  "kernelspec": {
   "display_name": "pythonlearningtemplate",
   "language": "python",
   "name": "python3"
  },
  "language_info": {
   "codemirror_mode": {
    "name": "ipython",
    "version": 3
   },
   "file_extension": ".py",
   "mimetype": "text/x-python",
   "name": "python",
   "nbconvert_exporter": "python",
   "pygments_lexer": "ipython3",
   "version": "3.13.5"
  }
 },
 "nbformat": 4,
 "nbformat_minor": 5
}
